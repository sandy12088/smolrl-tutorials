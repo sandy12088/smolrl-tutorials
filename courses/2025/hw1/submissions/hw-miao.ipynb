{
 "cells": [
  {
   "cell_type": "markdown",
   "metadata": {},
   "source": [
    "**一.Q learning‘s update formula**"
   ]
  },
  {
   "cell_type": "markdown",
   "metadata": {},
   "source": [
    "**1. 计算 TD error**   \n",
    " $ r + \\gamma \\cdot \\max_{a'} Q(s', a') - Q(s, a) $\n"
   ]
  },
  {
   "cell_type": "code",
   "execution_count": null,
   "metadata": {},
   "outputs": [],
   "source": [
    "def calc_q_update(\n",
    "    self, state: ObsType, action: ActType, reward: Any, new_state: ObsType\n",
    "):\n",
    "    delta = (\n",
    "        reward\n",
    "        + self.gamma * self.qfunc.max_q_prime(new_state)\n",
    "        - self.qfunc.get_q_value(state, action)\n",
    "    )\n"
   ]
  },
  {
   "cell_type": "markdown",
   "metadata": {},
   "source": [
    "**2. 计算 Q 值的更新**\n",
    "\n",
    "基于 TD 残差 \\( \\delta \\)，Q 值的更新公式为：\n",
    "\n",
    "\n",
    "$Q(s, a) \\leftarrow Q(s, a) + \\alpha \\, \\delta$\n"
   ]
  },
  {
   "cell_type": "code",
   "execution_count": null,
   "metadata": {},
   "outputs": [],
   "source": [
    "   q_update = self.qfunc.get_q_value(state, action) + self.learning_rate * delta\n",
    "    return q_update"
   ]
  },
  {
   "cell_type": "markdown",
   "metadata": {},
   "source": [
    "**3.更新Q表**"
   ]
  },
  {
   "cell_type": "code",
   "execution_count": null,
   "metadata": {},
   "outputs": [],
   "source": [
    "    def update(self, q_update, state, action):\n",
    "        self.qfunc.update(q_update, state, action)"
   ]
  }
 ],
 "metadata": {
  "language_info": {
   "name": "python"
  }
 },
 "nbformat": 4,
 "nbformat_minor": 2
}
